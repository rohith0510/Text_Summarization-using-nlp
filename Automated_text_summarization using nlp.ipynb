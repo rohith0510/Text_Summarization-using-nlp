{
 "cells": [
  {
   "cell_type": "code",
   "execution_count": 7,
   "id": "1f8187c8",
   "metadata": {},
   "outputs": [],
   "source": [
    " text=\"\"\"PM Narendra Modi LIVE updates: In addition to the inauguration of Kolkata Metro's Howrah Maidan-Esplanade Metro section, PM Modi will also unveil the Kavi Subhash-Hemanta Mukhopadhyay Metro section and the Taratala-Majerhat Metro section, which is part of the Joka-Esplanade line.\n",
    "\n",
    "The Howrah Maidan-Esplanade Metro section of Kolkata Metro boasts the first transportation tunnel under any major river in India. Moreover, Howrah Metro Station holds the distinction of being the deepest metro station in the country.\n",
    "\n",
    "Additionally, the Majerhat Metro Station, located on the Taratala-Majerhat Metro section being inaugurated, is a unique elevated Metro station crossing railway lines, platforms, and a canal.\"\"\""
   ]
  },
  {
   "cell_type": "code",
   "execution_count": 8,
   "id": "b8ab5eea",
   "metadata": {},
   "outputs": [
    {
     "data": {
      "text/plain": [
       "707"
      ]
     },
     "execution_count": 8,
     "metadata": {},
     "output_type": "execute_result"
    }
   ],
   "source": [
    "len(text)"
   ]
  },
  {
   "cell_type": "code",
   "execution_count": 9,
   "id": "1eabdeb8",
   "metadata": {},
   "outputs": [],
   "source": [
    "import spacy\n",
    "from spacy.lang.en.stop_words import STOP_WORDS\n",
    "from string import punctuation"
   ]
  },
  {
   "cell_type": "code",
   "execution_count": 4,
   "id": "cbf01a93",
   "metadata": {},
   "outputs": [
    {
     "name": "stdout",
     "output_type": "stream",
     "text": [
      "Defaulting to user installation because normal site-packages is not writeable\n",
      "Collecting spacy\n",
      "  Downloading spacy-3.7.4-cp39-cp39-win_amd64.whl (12.2 MB)\n",
      "     ---------------------------------------- 12.2/12.2 MB 3.2 MB/s eta 0:00:00\n",
      "Collecting murmurhash<1.1.0,>=0.28.0\n",
      "  Downloading murmurhash-1.0.10-cp39-cp39-win_amd64.whl (25 kB)\n",
      "Collecting pydantic!=1.8,!=1.8.1,<3.0.0,>=1.7.4\n",
      "  Downloading pydantic-2.6.3-py3-none-any.whl (395 kB)\n",
      "     -------------------------------------- 395.2/395.2 kB 4.9 MB/s eta 0:00:00\n",
      "Requirement already satisfied: requests<3.0.0,>=2.13.0 in e:\\annaconda\\lib\\site-packages (from spacy) (2.28.1)\n",
      "Collecting thinc<8.3.0,>=8.2.2\n",
      "  Downloading thinc-8.2.3-cp39-cp39-win_amd64.whl (1.5 MB)\n",
      "     ---------------------------------------- 1.5/1.5 MB 4.0 MB/s eta 0:00:00\n",
      "Requirement already satisfied: packaging>=20.0 in e:\\annaconda\\lib\\site-packages (from spacy) (21.3)\n",
      "Collecting srsly<3.0.0,>=2.4.3\n",
      "  Downloading srsly-2.4.8-cp39-cp39-win_amd64.whl (483 kB)\n",
      "     -------------------------------------- 483.8/483.8 kB 6.1 MB/s eta 0:00:00\n",
      "Collecting langcodes<4.0.0,>=3.2.0\n",
      "  Downloading langcodes-3.3.0-py3-none-any.whl (181 kB)\n",
      "     -------------------------------------- 181.6/181.6 kB 5.5 MB/s eta 0:00:00\n",
      "Requirement already satisfied: tqdm<5.0.0,>=4.38.0 in e:\\annaconda\\lib\\site-packages (from spacy) (4.64.1)\n",
      "Collecting preshed<3.1.0,>=3.0.2\n",
      "  Downloading preshed-3.0.9-cp39-cp39-win_amd64.whl (122 kB)\n",
      "     -------------------------------------- 122.7/122.7 kB 3.5 MB/s eta 0:00:00\n",
      "Collecting weasel<0.4.0,>=0.1.0\n",
      "  Downloading weasel-0.3.4-py3-none-any.whl (50 kB)\n",
      "     ---------------------------------------- 50.1/50.1 kB 2.5 MB/s eta 0:00:00\n",
      "Requirement already satisfied: jinja2 in e:\\annaconda\\lib\\site-packages (from spacy) (2.11.3)\n",
      "Collecting cymem<2.1.0,>=2.0.2\n",
      "  Downloading cymem-2.0.8-cp39-cp39-win_amd64.whl (39 kB)\n",
      "Collecting spacy-legacy<3.1.0,>=3.0.11\n",
      "  Downloading spacy_legacy-3.0.12-py2.py3-none-any.whl (29 kB)\n",
      "Requirement already satisfied: numpy>=1.19.0 in c:\\users\\home\\appdata\\roaming\\python\\python39\\site-packages (from spacy) (1.24.3)\n",
      "Requirement already satisfied: setuptools in c:\\users\\home\\appdata\\roaming\\python\\python39\\site-packages (from spacy) (68.1.2)\n",
      "Collecting spacy-loggers<2.0.0,>=1.0.0\n",
      "  Downloading spacy_loggers-1.0.5-py3-none-any.whl (22 kB)\n",
      "Requirement already satisfied: smart-open<7.0.0,>=5.2.1 in e:\\annaconda\\lib\\site-packages (from spacy) (5.2.1)\n",
      "Collecting wasabi<1.2.0,>=0.9.1\n",
      "  Downloading wasabi-1.1.2-py3-none-any.whl (27 kB)\n",
      "Collecting catalogue<2.1.0,>=2.0.6\n",
      "  Downloading catalogue-2.0.10-py3-none-any.whl (17 kB)\n",
      "Collecting typer<0.10.0,>=0.3.0\n",
      "  Downloading typer-0.9.0-py3-none-any.whl (45 kB)\n",
      "     ---------------------------------------- 45.9/45.9 kB ? eta 0:00:00\n",
      "Requirement already satisfied: pyparsing!=3.0.5,>=2.0.2 in c:\\users\\home\\appdata\\roaming\\python\\python39\\site-packages (from packaging>=20.0->spacy) (2.4.7)\n",
      "Collecting typing-extensions>=4.6.1\n",
      "  Downloading typing_extensions-4.10.0-py3-none-any.whl (33 kB)\n",
      "Collecting annotated-types>=0.4.0\n",
      "  Downloading annotated_types-0.6.0-py3-none-any.whl (12 kB)\n",
      "Collecting pydantic-core==2.16.3\n",
      "  Downloading pydantic_core-2.16.3-cp39-none-win_amd64.whl (1.9 MB)\n",
      "     ---------------------------------------- 1.9/1.9 MB 2.4 MB/s eta 0:00:00\n",
      "Requirement already satisfied: idna<4,>=2.5 in e:\\annaconda\\lib\\site-packages (from requests<3.0.0,>=2.13.0->spacy) (3.3)\n",
      "Requirement already satisfied: urllib3<1.27,>=1.21.1 in e:\\annaconda\\lib\\site-packages (from requests<3.0.0,>=2.13.0->spacy) (1.26.11)\n",
      "Requirement already satisfied: charset-normalizer<3,>=2 in e:\\annaconda\\lib\\site-packages (from requests<3.0.0,>=2.13.0->spacy) (2.0.4)\n",
      "Requirement already satisfied: certifi>=2017.4.17 in e:\\annaconda\\lib\\site-packages (from requests<3.0.0,>=2.13.0->spacy) (2022.9.14)\n",
      "Collecting confection<1.0.0,>=0.0.1\n",
      "  Downloading confection-0.1.4-py3-none-any.whl (35 kB)\n",
      "Collecting blis<0.8.0,>=0.7.8\n",
      "  Downloading blis-0.7.11-cp39-cp39-win_amd64.whl (6.6 MB)\n",
      "     ---------------------------------------- 6.6/6.6 MB 1.5 MB/s eta 0:00:00\n",
      "Requirement already satisfied: colorama in e:\\annaconda\\lib\\site-packages (from tqdm<5.0.0,>=4.38.0->spacy) (0.4.5)\n",
      "Requirement already satisfied: click<9.0.0,>=7.1.1 in e:\\annaconda\\lib\\site-packages (from typer<0.10.0,>=0.3.0->spacy) (8.0.4)\n",
      "Collecting colorama\n",
      "  Using cached colorama-0.4.6-py2.py3-none-any.whl (25 kB)\n",
      "Collecting cloudpathlib<0.17.0,>=0.7.0\n",
      "  Downloading cloudpathlib-0.16.0-py3-none-any.whl (45 kB)\n",
      "     ---------------------------------------- 45.0/45.0 kB 2.3 MB/s eta 0:00:00\n",
      "Requirement already satisfied: MarkupSafe>=0.23 in e:\\annaconda\\lib\\site-packages (from jinja2->spacy) (2.0.1)\n",
      "Installing collected packages: cymem, typing-extensions, spacy-loggers, spacy-legacy, murmurhash, langcodes, colorama, catalogue, blis, annotated-types, wasabi, srsly, pydantic-core, preshed, cloudpathlib, typer, pydantic, confection, weasel, thinc, spacy\n",
      "Successfully installed annotated-types-0.6.0 blis-0.7.11 catalogue-2.0.10 cloudpathlib-0.16.0 colorama-0.4.6 confection-0.1.4 cymem-2.0.8 langcodes-3.3.0 murmurhash-1.0.10 preshed-3.0.9 pydantic-2.6.3 pydantic-core-2.16.3 spacy-3.7.4 spacy-legacy-3.0.12 spacy-loggers-1.0.5 srsly-2.4.8 thinc-8.2.3 typer-0.9.0 typing-extensions-4.10.0 wasabi-1.1.2 weasel-0.3.4\n",
      "Note: you may need to restart the kernel to use updated packages.\n"
     ]
    },
    {
     "name": "stderr",
     "output_type": "stream",
     "text": [
      "  WARNING: The script weasel.exe is installed in 'C:\\Users\\HOME\\AppData\\Roaming\\Python\\Python39\\Scripts' which is not on PATH.\n",
      "  Consider adding this directory to PATH or, if you prefer to suppress this warning, use --no-warn-script-location.\n",
      "  WARNING: The script spacy.exe is installed in 'C:\\Users\\HOME\\AppData\\Roaming\\Python\\Python39\\Scripts' which is not on PATH.\n",
      "  Consider adding this directory to PATH or, if you prefer to suppress this warning, use --no-warn-script-location.\n",
      "ERROR: pip's dependency resolver does not currently take into account all the packages that are installed. This behaviour is the source of the following dependency conflicts.\n",
      "anaconda-project 0.11.1 requires ruamel-yaml, which is not installed.\n",
      "tensorflow-intel 2.13.0 requires typing-extensions<4.6.0,>=3.6.6, but you have typing-extensions 4.10.0 which is incompatible.\n"
     ]
    }
   ],
   "source": [
    "pip install spacy"
   ]
  },
  {
   "cell_type": "code",
   "execution_count": 13,
   "id": "85572446",
   "metadata": {},
   "outputs": [
    {
     "name": "stdout",
     "output_type": "stream",
     "text": [
      "Defaulting to user installation because normal site-packages is not writeable\n",
      "Collecting en-core-web-sm==3.7.1\n",
      "  Using cached https://github.com/explosion/spacy-models/releases/download/en_core_web_sm-3.7.1/en_core_web_sm-3.7.1-py3-none-any.whl (12.8 MB)\n",
      "Requirement already satisfied: spacy<3.8.0,>=3.7.2 in c:\\users\\home\\appdata\\roaming\\python\\python39\\site-packages (from en-core-web-sm==3.7.1) (3.7.4)\n",
      "Requirement already satisfied: wasabi<1.2.0,>=0.9.1 in c:\\users\\home\\appdata\\roaming\\python\\python39\\site-packages (from spacy<3.8.0,>=3.7.2->en-core-web-sm==3.7.1) (1.1.2)\n",
      "Requirement already satisfied: langcodes<4.0.0,>=3.2.0 in c:\\users\\home\\appdata\\roaming\\python\\python39\\site-packages (from spacy<3.8.0,>=3.7.2->en-core-web-sm==3.7.1) (3.3.0)\n",
      "Requirement already satisfied: requests<3.0.0,>=2.13.0 in e:\\annaconda\\lib\\site-packages (from spacy<3.8.0,>=3.7.2->en-core-web-sm==3.7.1) (2.28.1)\n",
      "Requirement already satisfied: preshed<3.1.0,>=3.0.2 in c:\\users\\home\\appdata\\roaming\\python\\python39\\site-packages (from spacy<3.8.0,>=3.7.2->en-core-web-sm==3.7.1) (3.0.9)\n",
      "Requirement already satisfied: weasel<0.4.0,>=0.1.0 in c:\\users\\home\\appdata\\roaming\\python\\python39\\site-packages (from spacy<3.8.0,>=3.7.2->en-core-web-sm==3.7.1) (0.3.4)\n",
      "Requirement already satisfied: thinc<8.3.0,>=8.2.2 in c:\\users\\home\\appdata\\roaming\\python\\python39\\site-packages (from spacy<3.8.0,>=3.7.2->en-core-web-sm==3.7.1) (8.2.3)\n",
      "Requirement already satisfied: cymem<2.1.0,>=2.0.2 in c:\\users\\home\\appdata\\roaming\\python\\python39\\site-packages (from spacy<3.8.0,>=3.7.2->en-core-web-sm==3.7.1) (2.0.8)\n",
      "Requirement already satisfied: typer<0.10.0,>=0.3.0 in c:\\users\\home\\appdata\\roaming\\python\\python39\\site-packages (from spacy<3.8.0,>=3.7.2->en-core-web-sm==3.7.1) (0.9.0)\n",
      "Requirement already satisfied: packaging>=20.0 in e:\\annaconda\\lib\\site-packages (from spacy<3.8.0,>=3.7.2->en-core-web-sm==3.7.1) (21.3)\n",
      "Requirement already satisfied: spacy-loggers<2.0.0,>=1.0.0 in c:\\users\\home\\appdata\\roaming\\python\\python39\\site-packages (from spacy<3.8.0,>=3.7.2->en-core-web-sm==3.7.1) (1.0.5)\n",
      "Requirement already satisfied: tqdm<5.0.0,>=4.38.0 in e:\\annaconda\\lib\\site-packages (from spacy<3.8.0,>=3.7.2->en-core-web-sm==3.7.1) (4.64.1)\n",
      "Requirement already satisfied: spacy-legacy<3.1.0,>=3.0.11 in c:\\users\\home\\appdata\\roaming\\python\\python39\\site-packages (from spacy<3.8.0,>=3.7.2->en-core-web-sm==3.7.1) (3.0.12)\n",
      "Requirement already satisfied: jinja2 in e:\\annaconda\\lib\\site-packages (from spacy<3.8.0,>=3.7.2->en-core-web-sm==3.7.1) (2.11.3)\n",
      "Requirement already satisfied: srsly<3.0.0,>=2.4.3 in c:\\users\\home\\appdata\\roaming\\python\\python39\\site-packages (from spacy<3.8.0,>=3.7.2->en-core-web-sm==3.7.1) (2.4.8)\n",
      "Requirement already satisfied: murmurhash<1.1.0,>=0.28.0 in c:\\users\\home\\appdata\\roaming\\python\\python39\\site-packages (from spacy<3.8.0,>=3.7.2->en-core-web-sm==3.7.1) (1.0.10)\n",
      "Requirement already satisfied: pydantic!=1.8,!=1.8.1,<3.0.0,>=1.7.4 in c:\\users\\home\\appdata\\roaming\\python\\python39\\site-packages (from spacy<3.8.0,>=3.7.2->en-core-web-sm==3.7.1) (2.6.3)\n",
      "Requirement already satisfied: catalogue<2.1.0,>=2.0.6 in c:\\users\\home\\appdata\\roaming\\python\\python39\\site-packages (from spacy<3.8.0,>=3.7.2->en-core-web-sm==3.7.1) (2.0.10)\n",
      "Requirement already satisfied: setuptools in c:\\users\\home\\appdata\\roaming\\python\\python39\\site-packages (from spacy<3.8.0,>=3.7.2->en-core-web-sm==3.7.1) (68.1.2)\n",
      "Requirement already satisfied: numpy>=1.19.0 in c:\\users\\home\\appdata\\roaming\\python\\python39\\site-packages (from spacy<3.8.0,>=3.7.2->en-core-web-sm==3.7.1) (1.24.3)\n",
      "Requirement already satisfied: smart-open<7.0.0,>=5.2.1 in e:\\annaconda\\lib\\site-packages (from spacy<3.8.0,>=3.7.2->en-core-web-sm==3.7.1) (5.2.1)\n",
      "Requirement already satisfied: pyparsing!=3.0.5,>=2.0.2 in c:\\users\\home\\appdata\\roaming\\python\\python39\\site-packages (from packaging>=20.0->spacy<3.8.0,>=3.7.2->en-core-web-sm==3.7.1) (2.4.7)\n",
      "Requirement already satisfied: annotated-types>=0.4.0 in c:\\users\\home\\appdata\\roaming\\python\\python39\\site-packages (from pydantic!=1.8,!=1.8.1,<3.0.0,>=1.7.4->spacy<3.8.0,>=3.7.2->en-core-web-sm==3.7.1) (0.6.0)\n",
      "Requirement already satisfied: typing-extensions>=4.6.1 in c:\\users\\home\\appdata\\roaming\\python\\python39\\site-packages (from pydantic!=1.8,!=1.8.1,<3.0.0,>=1.7.4->spacy<3.8.0,>=3.7.2->en-core-web-sm==3.7.1) (4.10.0)\n",
      "Requirement already satisfied: pydantic-core==2.16.3 in c:\\users\\home\\appdata\\roaming\\python\\python39\\site-packages (from pydantic!=1.8,!=1.8.1,<3.0.0,>=1.7.4->spacy<3.8.0,>=3.7.2->en-core-web-sm==3.7.1) (2.16.3)\n",
      "Requirement already satisfied: idna<4,>=2.5 in e:\\annaconda\\lib\\site-packages (from requests<3.0.0,>=2.13.0->spacy<3.8.0,>=3.7.2->en-core-web-sm==3.7.1) (3.3)\n",
      "Requirement already satisfied: certifi>=2017.4.17 in e:\\annaconda\\lib\\site-packages (from requests<3.0.0,>=2.13.0->spacy<3.8.0,>=3.7.2->en-core-web-sm==3.7.1) (2022.9.14)\n",
      "Requirement already satisfied: charset-normalizer<3,>=2 in e:\\annaconda\\lib\\site-packages (from requests<3.0.0,>=2.13.0->spacy<3.8.0,>=3.7.2->en-core-web-sm==3.7.1) (2.0.4)\n",
      "Requirement already satisfied: urllib3<1.27,>=1.21.1 in e:\\annaconda\\lib\\site-packages (from requests<3.0.0,>=2.13.0->spacy<3.8.0,>=3.7.2->en-core-web-sm==3.7.1) (1.26.11)\n",
      "Requirement already satisfied: blis<0.8.0,>=0.7.8 in c:\\users\\home\\appdata\\roaming\\python\\python39\\site-packages (from thinc<8.3.0,>=8.2.2->spacy<3.8.0,>=3.7.2->en-core-web-sm==3.7.1) (0.7.11)\n",
      "Requirement already satisfied: confection<1.0.0,>=0.0.1 in c:\\users\\home\\appdata\\roaming\\python\\python39\\site-packages (from thinc<8.3.0,>=8.2.2->spacy<3.8.0,>=3.7.2->en-core-web-sm==3.7.1) (0.1.4)\n",
      "Requirement already satisfied: colorama in c:\\users\\home\\appdata\\roaming\\python\\python39\\site-packages (from tqdm<5.0.0,>=4.38.0->spacy<3.8.0,>=3.7.2->en-core-web-sm==3.7.1) (0.4.6)\n",
      "Requirement already satisfied: click<9.0.0,>=7.1.1 in e:\\annaconda\\lib\\site-packages (from typer<0.10.0,>=0.3.0->spacy<3.8.0,>=3.7.2->en-core-web-sm==3.7.1) (8.0.4)\n",
      "Requirement already satisfied: cloudpathlib<0.17.0,>=0.7.0 in c:\\users\\home\\appdata\\roaming\\python\\python39\\site-packages (from weasel<0.4.0,>=0.1.0->spacy<3.8.0,>=3.7.2->en-core-web-sm==3.7.1) (0.16.0)\n",
      "Requirement already satisfied: MarkupSafe>=0.23 in e:\\annaconda\\lib\\site-packages (from jinja2->spacy<3.8.0,>=3.7.2->en-core-web-sm==3.7.1) (2.0.1)\n",
      "Installing collected packages: en-core-web-sm\n",
      "Successfully installed en-core-web-sm-3.7.1\n",
      "\u001b[38;5;2m[+] Download and installation successful\u001b[0m\n",
      "You can now load the package via spacy.load('en_core_web_sm')\n"
     ]
    }
   ],
   "source": [
    "!python -m spacy download en_core_web_sm\n"
   ]
  },
  {
   "cell_type": "code",
   "execution_count": 10,
   "id": "56bd5bda",
   "metadata": {},
   "outputs": [],
   "source": [
    "nlp = spacy.load(\"en_core_web_sm\")"
   ]
  },
  {
   "cell_type": "code",
   "execution_count": 11,
   "id": "7064b8e8",
   "metadata": {},
   "outputs": [],
   "source": [
    "doc = nlp(text)"
   ]
  },
  {
   "cell_type": "code",
   "execution_count": 12,
   "id": "3ff46384",
   "metadata": {},
   "outputs": [],
   "source": [
    "tokens =[token.text.lower() for token in doc if not token.is_stop and not token.is_punct and token.text !='\\n']"
   ]
  },
  {
   "cell_type": "code",
   "execution_count": 13,
   "id": "bb6410d2",
   "metadata": {},
   "outputs": [
    {
     "data": {
      "text/plain": [
       "['pm',\n",
       " 'narendra',\n",
       " 'modi',\n",
       " 'live',\n",
       " 'updates',\n",
       " 'addition',\n",
       " 'inauguration',\n",
       " 'kolkata',\n",
       " 'metro',\n",
       " 'howrah',\n",
       " 'maidan',\n",
       " 'esplanade',\n",
       " 'metro',\n",
       " 'section',\n",
       " 'pm',\n",
       " 'modi',\n",
       " 'unveil',\n",
       " 'kavi',\n",
       " 'subhash',\n",
       " 'hemanta',\n",
       " 'mukhopadhyay',\n",
       " 'metro',\n",
       " 'section',\n",
       " 'taratala',\n",
       " 'majerhat',\n",
       " 'metro',\n",
       " 'section',\n",
       " 'joka',\n",
       " 'esplanade',\n",
       " 'line',\n",
       " '\\n\\n',\n",
       " 'howrah',\n",
       " 'maidan',\n",
       " 'esplanade',\n",
       " 'metro',\n",
       " 'section',\n",
       " 'kolkata',\n",
       " 'metro',\n",
       " 'boasts',\n",
       " 'transportation',\n",
       " 'tunnel',\n",
       " 'major',\n",
       " 'river',\n",
       " 'india',\n",
       " 'howrah',\n",
       " 'metro',\n",
       " 'station',\n",
       " 'holds',\n",
       " 'distinction',\n",
       " 'deepest',\n",
       " 'metro',\n",
       " 'station',\n",
       " 'country',\n",
       " '\\n\\n',\n",
       " 'additionally',\n",
       " 'majerhat',\n",
       " 'metro',\n",
       " 'station',\n",
       " 'located',\n",
       " 'taratala',\n",
       " 'majerhat',\n",
       " 'metro',\n",
       " 'section',\n",
       " 'inaugurated',\n",
       " 'unique',\n",
       " 'elevated',\n",
       " 'metro',\n",
       " 'station',\n",
       " 'crossing',\n",
       " 'railway',\n",
       " 'lines',\n",
       " 'platforms',\n",
       " 'canal']"
      ]
     },
     "execution_count": 13,
     "metadata": {},
     "output_type": "execute_result"
    }
   ],
   "source": [
    "tokens"
   ]
  },
  {
   "cell_type": "code",
   "execution_count": 14,
   "id": "05623678",
   "metadata": {},
   "outputs": [],
   "source": [
    "tokens1=[]\n",
    "stopwords = list(STOP_WORDS)\n",
    "allowed_pos = ['ADJ','PROPN','VERB',\"NOUN\"]\n",
    "for token in doc:\n",
    "    if token.text in stopwords or token.text in punctuation:\n",
    "        continue\n",
    "    if token.pos_ in  allowed_pos:\n",
    "        tokens1.append(token.text)"
   ]
  },
  {
   "cell_type": "code",
   "execution_count": 15,
   "id": "81051e48",
   "metadata": {},
   "outputs": [
    {
     "data": {
      "text/plain": [
       "['PM',\n",
       " 'Narendra',\n",
       " 'Modi',\n",
       " 'LIVE',\n",
       " 'updates',\n",
       " 'addition',\n",
       " 'inauguration',\n",
       " 'Kolkata',\n",
       " 'Metro',\n",
       " 'Howrah',\n",
       " 'Maidan',\n",
       " 'Esplanade',\n",
       " 'Metro',\n",
       " 'section',\n",
       " 'PM',\n",
       " 'Modi',\n",
       " 'unveil',\n",
       " 'Kavi',\n",
       " 'Subhash',\n",
       " 'Hemanta',\n",
       " 'Mukhopadhyay',\n",
       " 'Metro',\n",
       " 'section',\n",
       " 'Taratala',\n",
       " 'Majerhat',\n",
       " 'Metro',\n",
       " 'section',\n",
       " 'Joka',\n",
       " 'Esplanade',\n",
       " 'line',\n",
       " 'Howrah',\n",
       " 'Maidan',\n",
       " 'Esplanade',\n",
       " 'Metro',\n",
       " 'section',\n",
       " 'Kolkata',\n",
       " 'Metro',\n",
       " 'boasts',\n",
       " 'transportation',\n",
       " 'tunnel',\n",
       " 'major',\n",
       " 'river',\n",
       " 'India',\n",
       " 'Howrah',\n",
       " 'Metro',\n",
       " 'Station',\n",
       " 'holds',\n",
       " 'distinction',\n",
       " 'deepest',\n",
       " 'metro',\n",
       " 'station',\n",
       " 'country',\n",
       " 'Majerhat',\n",
       " 'Metro',\n",
       " 'Station',\n",
       " 'located',\n",
       " 'Taratala',\n",
       " 'Majerhat',\n",
       " 'Metro',\n",
       " 'section',\n",
       " 'inaugurated',\n",
       " 'unique',\n",
       " 'elevated',\n",
       " 'Metro',\n",
       " 'station',\n",
       " 'crossing',\n",
       " 'railway',\n",
       " 'lines',\n",
       " 'platforms',\n",
       " 'canal']"
      ]
     },
     "execution_count": 15,
     "metadata": {},
     "output_type": "execute_result"
    }
   ],
   "source": [
    "tokens1"
   ]
  },
  {
   "cell_type": "code",
   "execution_count": 16,
   "id": "d31adaa4",
   "metadata": {},
   "outputs": [],
   "source": [
    "from collections import Counter"
   ]
  },
  {
   "cell_type": "code",
   "execution_count": 17,
   "id": "fb62dd7a",
   "metadata": {},
   "outputs": [
    {
     "name": "stdout",
     "output_type": "stream",
     "text": [
      "Defaulting to user installation because normal site-packages is not writeableNote: you may need to restart the kernel to use updated packages.\n",
      "\n",
      "Requirement already satisfied: Counter in c:\\users\\home\\appdata\\roaming\\python\\python39\\site-packages (1.0.0)\n"
     ]
    }
   ],
   "source": [
    " pip install Counter"
   ]
  },
  {
   "cell_type": "code",
   "execution_count": 18,
   "id": "7178fef5",
   "metadata": {},
   "outputs": [],
   "source": [
    "word_freq = Counter(tokens)"
   ]
  },
  {
   "cell_type": "code",
   "execution_count": 19,
   "id": "e8cfaf8f",
   "metadata": {},
   "outputs": [
    {
     "data": {
      "text/plain": [
       "Counter({'pm': 2,\n",
       "         'narendra': 1,\n",
       "         'modi': 2,\n",
       "         'live': 1,\n",
       "         'updates': 1,\n",
       "         'addition': 1,\n",
       "         'inauguration': 1,\n",
       "         'kolkata': 2,\n",
       "         'metro': 11,\n",
       "         'howrah': 3,\n",
       "         'maidan': 2,\n",
       "         'esplanade': 3,\n",
       "         'section': 5,\n",
       "         'unveil': 1,\n",
       "         'kavi': 1,\n",
       "         'subhash': 1,\n",
       "         'hemanta': 1,\n",
       "         'mukhopadhyay': 1,\n",
       "         'taratala': 2,\n",
       "         'majerhat': 3,\n",
       "         'joka': 1,\n",
       "         'line': 1,\n",
       "         '\\n\\n': 2,\n",
       "         'boasts': 1,\n",
       "         'transportation': 1,\n",
       "         'tunnel': 1,\n",
       "         'major': 1,\n",
       "         'river': 1,\n",
       "         'india': 1,\n",
       "         'station': 4,\n",
       "         'holds': 1,\n",
       "         'distinction': 1,\n",
       "         'deepest': 1,\n",
       "         'country': 1,\n",
       "         'additionally': 1,\n",
       "         'located': 1,\n",
       "         'inaugurated': 1,\n",
       "         'unique': 1,\n",
       "         'elevated': 1,\n",
       "         'crossing': 1,\n",
       "         'railway': 1,\n",
       "         'lines': 1,\n",
       "         'platforms': 1,\n",
       "         'canal': 1})"
      ]
     },
     "execution_count": 19,
     "metadata": {},
     "output_type": "execute_result"
    }
   ],
   "source": [
    " word_freq"
   ]
  },
  {
   "cell_type": "code",
   "execution_count": 20,
   "id": "a10854a4",
   "metadata": {},
   "outputs": [],
   "source": [
    "max_freq = max(word_freq.values())"
   ]
  },
  {
   "cell_type": "code",
   "execution_count": 21,
   "id": "c41bd6ee",
   "metadata": {},
   "outputs": [
    {
     "data": {
      "text/plain": [
       "11"
      ]
     },
     "execution_count": 21,
     "metadata": {},
     "output_type": "execute_result"
    }
   ],
   "source": [
    "max_freq"
   ]
  },
  {
   "cell_type": "code",
   "execution_count": 22,
   "id": "19736706",
   "metadata": {},
   "outputs": [],
   "source": [
    "for word in word_freq.keys():\n",
    "    word_freq[word]= word_freq[word]/max_freq"
   ]
  },
  {
   "cell_type": "code",
   "execution_count": 23,
   "id": "71171f17",
   "metadata": {},
   "outputs": [
    {
     "data": {
      "text/plain": [
       "Counter({'pm': 0.18181818181818182,\n",
       "         'narendra': 0.09090909090909091,\n",
       "         'modi': 0.18181818181818182,\n",
       "         'live': 0.09090909090909091,\n",
       "         'updates': 0.09090909090909091,\n",
       "         'addition': 0.09090909090909091,\n",
       "         'inauguration': 0.09090909090909091,\n",
       "         'kolkata': 0.18181818181818182,\n",
       "         'metro': 1.0,\n",
       "         'howrah': 0.2727272727272727,\n",
       "         'maidan': 0.18181818181818182,\n",
       "         'esplanade': 0.2727272727272727,\n",
       "         'section': 0.45454545454545453,\n",
       "         'unveil': 0.09090909090909091,\n",
       "         'kavi': 0.09090909090909091,\n",
       "         'subhash': 0.09090909090909091,\n",
       "         'hemanta': 0.09090909090909091,\n",
       "         'mukhopadhyay': 0.09090909090909091,\n",
       "         'taratala': 0.18181818181818182,\n",
       "         'majerhat': 0.2727272727272727,\n",
       "         'joka': 0.09090909090909091,\n",
       "         'line': 0.09090909090909091,\n",
       "         '\\n\\n': 0.18181818181818182,\n",
       "         'boasts': 0.09090909090909091,\n",
       "         'transportation': 0.09090909090909091,\n",
       "         'tunnel': 0.09090909090909091,\n",
       "         'major': 0.09090909090909091,\n",
       "         'river': 0.09090909090909091,\n",
       "         'india': 0.09090909090909091,\n",
       "         'station': 0.36363636363636365,\n",
       "         'holds': 0.09090909090909091,\n",
       "         'distinction': 0.09090909090909091,\n",
       "         'deepest': 0.09090909090909091,\n",
       "         'country': 0.09090909090909091,\n",
       "         'additionally': 0.09090909090909091,\n",
       "         'located': 0.09090909090909091,\n",
       "         'inaugurated': 0.09090909090909091,\n",
       "         'unique': 0.09090909090909091,\n",
       "         'elevated': 0.09090909090909091,\n",
       "         'crossing': 0.09090909090909091,\n",
       "         'railway': 0.09090909090909091,\n",
       "         'lines': 0.09090909090909091,\n",
       "         'platforms': 0.09090909090909091,\n",
       "         'canal': 0.09090909090909091})"
      ]
     },
     "execution_count": 23,
     "metadata": {},
     "output_type": "execute_result"
    }
   ],
   "source": [
    "word_freq"
   ]
  },
  {
   "cell_type": "code",
   "execution_count": 24,
   "id": "d3e55175",
   "metadata": {},
   "outputs": [],
   "source": [
    "sent_token = [sent.text for sent in doc.sents]"
   ]
  },
  {
   "cell_type": "code",
   "execution_count": 25,
   "id": "016ba9e9",
   "metadata": {},
   "outputs": [
    {
     "data": {
      "text/plain": [
       "[\"PM Narendra Modi LIVE updates: In addition to the inauguration of Kolkata Metro's Howrah Maidan-Esplanade Metro section, PM Modi will also unveil the Kavi Subhash-Hemanta Mukhopadhyay Metro section and the Taratala-Majerhat Metro section, which is part of the Joka-Esplanade line.\\n\\n\",\n",
       " 'The Howrah Maidan-Esplanade Metro section of Kolkata Metro boasts the first transportation tunnel under any major river in India.',\n",
       " 'Moreover, Howrah Metro Station holds the distinction of being the deepest metro station in the country.\\n\\n',\n",
       " 'Additionally, the Majerhat Metro Station, located on the Taratala-Majerhat Metro section being inaugurated, is a unique elevated Metro station crossing railway lines, platforms, and a canal.']"
      ]
     },
     "execution_count": 25,
     "metadata": {},
     "output_type": "execute_result"
    }
   ],
   "source": [
    "sent_token"
   ]
  },
  {
   "cell_type": "code",
   "execution_count": 26,
   "id": "65314102",
   "metadata": {},
   "outputs": [
    {
     "name": "stdout",
     "output_type": "stream",
     "text": [
      "PM\n",
      "Narendra\n",
      "Modi\n",
      "LIVE\n",
      "updates:\n",
      "In\n",
      "addition\n",
      "to\n",
      "the\n",
      "inauguration\n",
      "of\n",
      "Kolkata\n",
      "Metro's\n",
      "Howrah\n",
      "Maidan-Esplanade\n",
      "Metro\n",
      "section,\n",
      "PM\n",
      "Modi\n",
      "will\n",
      "also\n",
      "unveil\n",
      "the\n",
      "Kavi\n",
      "Subhash-Hemanta\n",
      "Mukhopadhyay\n",
      "Metro\n",
      "section\n",
      "and\n",
      "the\n",
      "Taratala-Majerhat\n",
      "Metro\n",
      "section,\n",
      "which\n",
      "is\n",
      "part\n",
      "of\n",
      "the\n",
      "Joka-Esplanade\n",
      "line.\n",
      "The\n",
      "Howrah\n",
      "Maidan-Esplanade\n",
      "Metro\n",
      "section\n",
      "of\n",
      "Kolkata\n",
      "Metro\n",
      "boasts\n",
      "the\n",
      "first\n",
      "transportation\n",
      "tunnel\n",
      "under\n",
      "any\n",
      "major\n",
      "river\n",
      "in\n",
      "India.\n",
      "Moreover,\n",
      "Howrah\n",
      "Metro\n",
      "Station\n",
      "holds\n",
      "the\n",
      "distinction\n",
      "of\n",
      "being\n",
      "the\n",
      "deepest\n",
      "metro\n",
      "station\n",
      "in\n",
      "the\n",
      "country.\n",
      "Additionally,\n",
      "the\n",
      "Majerhat\n",
      "Metro\n",
      "Station,\n",
      "located\n",
      "on\n",
      "the\n",
      "Taratala-Majerhat\n",
      "Metro\n",
      "section\n",
      "being\n",
      "inaugurated,\n",
      "is\n",
      "a\n",
      "unique\n",
      "elevated\n",
      "Metro\n",
      "station\n",
      "crossing\n",
      "railway\n",
      "lines,\n",
      "platforms,\n",
      "and\n",
      "a\n",
      "canal.\n"
     ]
    }
   ],
   "source": [
    "sent_score={}\n",
    "for sent in sent_token:\n",
    "    for word in sent.split():\n",
    "        if word.lower() in word_freq.keys():\n",
    "            if sent not in sent_score.keys():\n",
    "                sent_score[sent]=word_freq[word]\n",
    "            else:\n",
    "                 sent_score[sent] +=word_freq[word] \n",
    "        print(word)\n",
    "         "
   ]
  },
  {
   "cell_type": "code",
   "execution_count": 27,
   "id": "68ddc7e8",
   "metadata": {},
   "outputs": [
    {
     "data": {
      "text/plain": [
       "{\"PM Narendra Modi LIVE updates: In addition to the inauguration of Kolkata Metro's Howrah Maidan-Esplanade Metro section, PM Modi will also unveil the Kavi Subhash-Hemanta Mukhopadhyay Metro section and the Taratala-Majerhat Metro section, which is part of the Joka-Esplanade line.\\n\\n\": 0.7272727272727273,\n",
       " 'The Howrah Maidan-Esplanade Metro section of Kolkata Metro boasts the first transportation tunnel under any major river in India.': 0.9090909090909092,\n",
       " 'Moreover, Howrah Metro Station holds the distinction of being the deepest metro station in the country.\\n\\n': 1.6363636363636362,\n",
       " 'Additionally, the Majerhat Metro Station, located on the Taratala-Majerhat Metro section being inaugurated, is a unique elevated Metro station crossing railway lines, platforms, and a canal.': 1.2727272727272725}"
      ]
     },
     "execution_count": 27,
     "metadata": {},
     "output_type": "execute_result"
    }
   ],
   "source": [
    " sent_score"
   ]
  },
  {
   "cell_type": "code",
   "execution_count": 28,
   "id": "d97a8f51",
   "metadata": {},
   "outputs": [],
   "source": [
    "import pandas as pd"
   ]
  },
  {
   "cell_type": "code",
   "execution_count": 29,
   "id": "a9efd312",
   "metadata": {},
   "outputs": [
    {
     "data": {
      "text/html": [
       "<div>\n",
       "<style scoped>\n",
       "    .dataframe tbody tr th:only-of-type {\n",
       "        vertical-align: middle;\n",
       "    }\n",
       "\n",
       "    .dataframe tbody tr th {\n",
       "        vertical-align: top;\n",
       "    }\n",
       "\n",
       "    .dataframe thead th {\n",
       "        text-align: right;\n",
       "    }\n",
       "</style>\n",
       "<table border=\"1\" class=\"dataframe\">\n",
       "  <thead>\n",
       "    <tr style=\"text-align: right;\">\n",
       "      <th></th>\n",
       "      <th>Sentence</th>\n",
       "      <th>Score</th>\n",
       "    </tr>\n",
       "  </thead>\n",
       "  <tbody>\n",
       "    <tr>\n",
       "      <th>0</th>\n",
       "      <td>PM Narendra Modi LIVE updates: In addition to ...</td>\n",
       "      <td>0.727273</td>\n",
       "    </tr>\n",
       "    <tr>\n",
       "      <th>1</th>\n",
       "      <td>The Howrah Maidan-Esplanade Metro section of K...</td>\n",
       "      <td>0.909091</td>\n",
       "    </tr>\n",
       "    <tr>\n",
       "      <th>2</th>\n",
       "      <td>Moreover, Howrah Metro Station holds the disti...</td>\n",
       "      <td>1.636364</td>\n",
       "    </tr>\n",
       "    <tr>\n",
       "      <th>3</th>\n",
       "      <td>Additionally, the Majerhat Metro Station, loca...</td>\n",
       "      <td>1.272727</td>\n",
       "    </tr>\n",
       "  </tbody>\n",
       "</table>\n",
       "</div>"
      ],
      "text/plain": [
       "                                            Sentence     Score\n",
       "0  PM Narendra Modi LIVE updates: In addition to ...  0.727273\n",
       "1  The Howrah Maidan-Esplanade Metro section of K...  0.909091\n",
       "2  Moreover, Howrah Metro Station holds the disti...  1.636364\n",
       "3  Additionally, the Majerhat Metro Station, loca...  1.272727"
      ]
     },
     "execution_count": 29,
     "metadata": {},
     "output_type": "execute_result"
    }
   ],
   "source": [
    "pd.DataFrame(list(sent_score.items()),columns=['Sentence','Score'])"
   ]
  },
  {
   "cell_type": "code",
   "execution_count": 30,
   "id": "876e7cc2",
   "metadata": {},
   "outputs": [],
   "source": [
    "from heapq import nlargest"
   ]
  },
  {
   "cell_type": "code",
   "execution_count": 31,
   "id": "5a57e004",
   "metadata": {},
   "outputs": [],
   "source": [
    "num_sentences = 3\n",
    "n=nlargest(num_sentences,sent_score,key=sent_score.get)"
   ]
  },
  {
   "cell_type": "code",
   "execution_count": 32,
   "id": "22de0f54",
   "metadata": {},
   "outputs": [
    {
     "data": {
      "text/plain": [
       "'Moreover, Howrah Metro Station holds the distinction of being the deepest metro station in the country.\\n\\n Additionally, the Majerhat Metro Station, located on the Taratala-Majerhat Metro section being inaugurated, is a unique elevated Metro station crossing railway lines, platforms, and a canal. The Howrah Maidan-Esplanade Metro section of Kolkata Metro boasts the first transportation tunnel under any major river in India.'"
      ]
     },
     "execution_count": 32,
     "metadata": {},
     "output_type": "execute_result"
    }
   ],
   "source": [
    "\" \".join(n) "
   ]
  },
  {
   "cell_type": "code",
   "execution_count": 48,
   "id": "152f82b9",
   "metadata": {},
   "outputs": [],
   "source": [
    "import tkinter as tk\n",
    "from tkinter import scrolledtext\n",
    "from tkinter import messagebox\n",
    "import spacy\n",
    "from spacy.lang.en.stop_words import STOP_WORDS\n",
    "from string import punctuation\n",
    "from collections import Counter\n",
    "from heapq import nlargest\n",
    "\n",
    "# Function to perform text summarization\n",
    "def summarize_text():\n",
    "    # Get the text from the input box\n",
    "    text = input_box.get(\"1.0\", tk.END)\n",
    "\n",
    "    # Tokenize the text using Spacy\n",
    "    nlp = spacy.load(\"en_core_web_sm\")\n",
    "    doc = nlp(text)\n",
    "\n",
    "    # Remove stop words and punctuation\n",
    "    clean_text = [token.text.lower() for token in doc if token.text.lower() not in STOP_WORDS and token.text not in punctuation]\n",
    "\n",
    "    # Calculate word frequency\n",
    "    word_freq = Counter(clean_text)\n",
    "\n",
    "    # Calculate word weights\n",
    "    max_freq = max(word_freq.values())\n",
    "    word_weights = {word: freq / max_freq for word, freq in word_freq.items()}\n",
    "\n",
    "    # Calculate sentence scores\n",
    "    sentence_scores = {}\n",
    "    for sentence in doc.sents:\n",
    "        for word in sentence:\n",
    "            if word.text.lower() in word_weights:\n",
    "                if sentence not in sentence_scores:\n",
    "                    sentence_scores[sentence] = word_weights[word.text.lower()]\n",
    "                else:\n",
    "                    sentence_scores[sentence] += word_weights[word.text.lower()]\n",
    "\n",
    "    # Get the top N sentences for summarization\n",
    "    summary_sentences = nlargest(3, sentence_scores, key=sentence_scores.get)\n",
    "\n",
    "    # Display the summary in the result box\n",
    "    summary_text = \"\"\n",
    "    for sentence in summary_sentences:\n",
    "        summary_text += sentence.text\n",
    "    result_box.delete(\"1.0\", tk.END)\n",
    "    result_box.insert(tk.END, summary_text)\n",
    "\n",
    "# Create the Tkinter application window\n",
    "root = tk.Tk()\n",
    "root.title(\"Text Summarizer\")\n",
    "\n",
    "# Input box for entering text\n",
    "input_box = scrolledtext.ScrolledText(root, width=50, height=10, wrap=tk.WORD)\n",
    "input_box.pack(pady=10)\n",
    "\n",
    "# Button to trigger text summarization\n",
    "summarize_button = tk.Button(root, text=\"Summarize Text\", command=summarize_text)\n",
    "summarize_button.pack(pady=5)\n",
    "\n",
    "# Result box for output\n",
    "result_box = scrolledtext.ScrolledText(root, width=50, height=10, wrap=tk.WORD)\n",
    "result_box.pack(pady=10)\n",
    "\n",
    "# Start the Tkinter event loop\n",
    "root.mainloop()\n"
   ]
  },
  {
   "cell_type": "code",
   "execution_count": 33,
   "id": "6c43c775",
   "metadata": {},
   "outputs": [],
   "source": [
    "from transformers import pipeline "
   ]
  },
  {
   "cell_type": "code",
   "execution_count": 37,
   "id": "afbc3222",
   "metadata": {},
   "outputs": [
    {
     "name": "stderr",
     "output_type": "stream",
     "text": [
      "C:\\Users\\HOME\\AppData\\Roaming\\Python\\Python39\\site-packages\\transformers\\models\\t5\\tokenization_t5_fast.py:158: FutureWarning: This tokenizer was incorrectly instantiated with a model max length of 512 which will be corrected in Transformers v5.\n",
      "For now, this behavior is kept to avoid breaking backwards compatibility when padding/encoding with `truncation is True`.\n",
      "- Be aware that you SHOULD NOT rely on t5-base automatically truncating your input to 512 when padding/encoding.\n",
      "- If you want to encode/pad to sequences longer than 512 you can either instantiate this tokenizer with `model_max_length` or pass `max_length` when encoding/padding.\n",
      "- To avoid this warning, please instantiate this tokenizer with `model_max_length` set to your preferred value.\n",
      "  warnings.warn(\n"
     ]
    }
   ],
   "source": [
    "Summarizer=pipeline(\"summarization\",model='t5-base',tokenizer='t5-base',framework='pt')"
   ]
  },
  {
   "cell_type": "code",
   "execution_count": 34,
   "id": "4b48babd",
   "metadata": {},
   "outputs": [],
   "source": [
    " text=\"\"\"PM Narendra Modi Bengal visit LIVE updates: Prime Minister Narendra Modi is scheduled to inaugurate various projects and address a public rally in the capital of West Bengal, Kolkata, as well as Barasat. Locals from Sandeshkhali are opting to travel by boat to reach Barasat, where they will board buses to attend the Prime Minister's public gathering.\n",
    "\n",
    "Around 10 am, PM Modi will inaugurate developmental projects in Kolkata before proceeding to Barasat to participate in the Nari Shakti Vandan Abhiyan Programme. \"\"\""
   ]
  },
  {
   "cell_type": "code",
   "execution_count": 35,
   "id": "f5ff707d",
   "metadata": {},
   "outputs": [
    {
     "data": {
      "text/plain": [
       "515"
      ]
     },
     "execution_count": 35,
     "metadata": {},
     "output_type": "execute_result"
    }
   ],
   "source": [
    "len(text)"
   ]
  },
  {
   "cell_type": "code",
   "execution_count": 38,
   "id": "8c07ca85",
   "metadata": {},
   "outputs": [],
   "source": [
    "summary =Summarizer(text,max_length=100,min_length=10,do_sample=False)"
   ]
  },
  {
   "cell_type": "code",
   "execution_count": 39,
   "id": "4ba726f7",
   "metadata": {},
   "outputs": [
    {
     "data": {
      "text/plain": [
       "[{'summary_text': 'PM Narendra Modi is scheduled to inaugurate various projects and address a public rally in the capital of West Bengal, Kolkata . around 10 am, PM Modi will inaugurate developmental projects in Kolkata before proceeding to Barasat to participate in the Nari Shakti Vandan Abhiyan Programme.'}]"
      ]
     },
     "execution_count": 39,
     "metadata": {},
     "output_type": "execute_result"
    }
   ],
   "source": [
    "summary"
   ]
  },
  {
   "cell_type": "code",
   "execution_count": 40,
   "id": "17431b18",
   "metadata": {},
   "outputs": [
    {
     "data": {
      "text/plain": [
       "289"
      ]
     },
     "execution_count": 40,
     "metadata": {},
     "output_type": "execute_result"
    }
   ],
   "source": [
    "len(summary[0]['summary_text'])"
   ]
  },
  {
   "cell_type": "code",
   "execution_count": null,
   "id": "99c65f29",
   "metadata": {},
   "outputs": [],
   "source": [
    "import tkinter as tk\n",
    "from transformers import pipeline\n",
    "\n",
    "# Initialize the summarizer pipeline\n",
    "summarizer = pipeline(\"summarization\", model=\"t5-base\", tokenizer=\"t5-base\")\n",
    "\n",
    "def summarize_text():\n",
    "    # Get text from the input text box\n",
    "    text = text_entry.get(\"1.0\", \"end-1c\")\n",
    "    # Summarize the text\n",
    "    summary = summarizer(text, max_length=100, min_length=10, do_sample=False)\n",
    "    # Update the output text box with the summary\n",
    "    output_text.delete(\"1.0\", \"end\")\n",
    "    output_text.insert(\"1.0\", summary[0]['summary_text'])\n",
    "\n",
    "# Create a Tkinter window\n",
    "window = tk.Tk()\n",
    "window.title(\"Text Summarizer\")\n",
    "\n",
    "# Create input text box\n",
    "text_entry = tk.Text(window, height=10, width=60)\n",
    "text_entry.pack(pady=10)\n",
    "\n",
    "# Create a button to trigger text summarization\n",
    "summarize_button = tk.Button(window, text=\"Summarize\", command=summarize_text)\n",
    "summarize_button.pack()\n",
    "\n",
    "# Create output text box\n",
    "output_text = tk.Text(window, height=10, width=60)\n",
    "output_text.pack(pady=10)\n",
    "\n",
    "# Run the Tkinter event Loop\n",
    "window.mainloop()\n",
    "\n"
   ]
  },
  {
   "cell_type": "code",
   "execution_count": null,
   "id": "df048391",
   "metadata": {},
   "outputs": [],
   "source": []
  }
 ],
 "metadata": {
  "kernelspec": {
   "display_name": "Python 3 (ipykernel)",
   "language": "python",
   "name": "python3"
  },
  "language_info": {
   "codemirror_mode": {
    "name": "ipython",
    "version": 3
   },
   "file_extension": ".py",
   "mimetype": "text/x-python",
   "name": "python",
   "nbconvert_exporter": "python",
   "pygments_lexer": "ipython3",
   "version": "3.9.13"
  }
 },
 "nbformat": 4,
 "nbformat_minor": 5
}
